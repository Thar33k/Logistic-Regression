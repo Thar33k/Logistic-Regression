{
 "cells": [
  {
   "cell_type": "markdown",
   "id": "bba0cbb9-fc58-4307-ad76-ad06bbb19741",
   "metadata": {},
   "source": [
    "## Data Source :\n",
    "\n",
    "retrieved from https://www.kaggle.com/datasets/sohamghag/student-logistic-regression-dataset"
   ]
  },
  {
   "cell_type": "markdown",
   "id": "976501f1-ad67-4aae-ab07-621b715696ac",
   "metadata": {},
   "source": [
    "### Relevant Libraries "
   ]
  },
  {
   "cell_type": "code",
   "execution_count": 6,
   "id": "01de2902-0c27-4d20-8247-954213eb139c",
   "metadata": {},
   "outputs": [],
   "source": [
    "import numpy as np\n",
    "import pandas as pd\n",
    "import statsmodels.api as sm\n",
    "import matplotlib.pyplot as plt\n",
    "import seaborn as sns\n",
    "from sklearn.model_selection import train_test_split\n",
    "sns.set()"
   ]
  },
  {
   "cell_type": "markdown",
   "id": "008b17fe-5a10-4c73-a37b-5116b3e30857",
   "metadata": {},
   "source": [
    "## EDA"
   ]
  },
  {
   "cell_type": "code",
   "execution_count": 7,
   "id": "b35a0add-3f3d-4a30-9f61-c7e46dce1a0a",
   "metadata": {},
   "outputs": [
    {
     "data": {
      "text/html": [
       "<div>\n",
       "<style scoped>\n",
       "    .dataframe tbody tr th:only-of-type {\n",
       "        vertical-align: middle;\n",
       "    }\n",
       "\n",
       "    .dataframe tbody tr th {\n",
       "        vertical-align: top;\n",
       "    }\n",
       "\n",
       "    .dataframe thead th {\n",
       "        text-align: right;\n",
       "    }\n",
       "</style>\n",
       "<table border=\"1\" class=\"dataframe\">\n",
       "  <thead>\n",
       "    <tr style=\"text-align: right;\">\n",
       "      <th></th>\n",
       "      <th>Student_ID</th>\n",
       "      <th>IQ</th>\n",
       "      <th>CGPA</th>\n",
       "      <th>Placement</th>\n",
       "    </tr>\n",
       "  </thead>\n",
       "  <tbody>\n",
       "    <tr>\n",
       "      <th>0</th>\n",
       "      <td>1</td>\n",
       "      <td>133</td>\n",
       "      <td>7.55</td>\n",
       "      <td>Yes</td>\n",
       "    </tr>\n",
       "    <tr>\n",
       "      <th>1</th>\n",
       "      <td>2</td>\n",
       "      <td>126</td>\n",
       "      <td>9.74</td>\n",
       "      <td>Yes</td>\n",
       "    </tr>\n",
       "    <tr>\n",
       "      <th>2</th>\n",
       "      <td>3</td>\n",
       "      <td>110</td>\n",
       "      <td>7.17</td>\n",
       "      <td>Yes</td>\n",
       "    </tr>\n",
       "    <tr>\n",
       "      <th>3</th>\n",
       "      <td>4</td>\n",
       "      <td>87</td>\n",
       "      <td>5.92</td>\n",
       "      <td>No</td>\n",
       "    </tr>\n",
       "    <tr>\n",
       "      <th>4</th>\n",
       "      <td>5</td>\n",
       "      <td>138</td>\n",
       "      <td>7.84</td>\n",
       "      <td>Yes</td>\n",
       "    </tr>\n",
       "    <tr>\n",
       "      <th>...</th>\n",
       "      <td>...</td>\n",
       "      <td>...</td>\n",
       "      <td>...</td>\n",
       "      <td>...</td>\n",
       "    </tr>\n",
       "    <tr>\n",
       "      <th>495</th>\n",
       "      <td>496</td>\n",
       "      <td>106</td>\n",
       "      <td>6.64</td>\n",
       "      <td>Yes</td>\n",
       "    </tr>\n",
       "    <tr>\n",
       "      <th>496</th>\n",
       "      <td>497</td>\n",
       "      <td>82</td>\n",
       "      <td>8.29</td>\n",
       "      <td>No</td>\n",
       "    </tr>\n",
       "    <tr>\n",
       "      <th>497</th>\n",
       "      <td>498</td>\n",
       "      <td>92</td>\n",
       "      <td>5.24</td>\n",
       "      <td>Yes</td>\n",
       "    </tr>\n",
       "    <tr>\n",
       "      <th>498</th>\n",
       "      <td>499</td>\n",
       "      <td>96</td>\n",
       "      <td>7.36</td>\n",
       "      <td>Yes</td>\n",
       "    </tr>\n",
       "    <tr>\n",
       "      <th>499</th>\n",
       "      <td>500</td>\n",
       "      <td>142</td>\n",
       "      <td>6.22</td>\n",
       "      <td>Yes</td>\n",
       "    </tr>\n",
       "  </tbody>\n",
       "</table>\n",
       "<p>500 rows × 4 columns</p>\n",
       "</div>"
      ],
      "text/plain": [
       "     Student_ID   IQ  CGPA Placement\n",
       "0             1  133  7.55       Yes\n",
       "1             2  126  9.74       Yes\n",
       "2             3  110  7.17       Yes\n",
       "3             4   87  5.92        No\n",
       "4             5  138  7.84       Yes\n",
       "..          ...  ...   ...       ...\n",
       "495         496  106  6.64       Yes\n",
       "496         497   82  8.29        No\n",
       "497         498   92  5.24       Yes\n",
       "498         499   96  7.36       Yes\n",
       "499         500  142  6.22       Yes\n",
       "\n",
       "[500 rows x 4 columns]"
      ]
     },
     "execution_count": 7,
     "metadata": {},
     "output_type": "execute_result"
    }
   ],
   "source": [
    "raw_data = pd.read_csv('students_with_placement.csv')\n",
    "raw_data"
   ]
  },
  {
   "cell_type": "code",
   "execution_count": 8,
   "id": "dc6791ea-b617-4787-b2e7-7c57ffaa3c95",
   "metadata": {},
   "outputs": [],
   "source": [
    "raw_data.drop(['Student_ID'],axis=1,inplace=True)"
   ]
  },
  {
   "cell_type": "code",
   "execution_count": 9,
   "id": "4f688bad-f05e-48ce-b2a5-8ece8be0c6da",
   "metadata": {},
   "outputs": [
    {
     "data": {
      "text/html": [
       "<div>\n",
       "<style scoped>\n",
       "    .dataframe tbody tr th:only-of-type {\n",
       "        vertical-align: middle;\n",
       "    }\n",
       "\n",
       "    .dataframe tbody tr th {\n",
       "        vertical-align: top;\n",
       "    }\n",
       "\n",
       "    .dataframe thead th {\n",
       "        text-align: right;\n",
       "    }\n",
       "</style>\n",
       "<table border=\"1\" class=\"dataframe\">\n",
       "  <thead>\n",
       "    <tr style=\"text-align: right;\">\n",
       "      <th></th>\n",
       "      <th>IQ</th>\n",
       "      <th>CGPA</th>\n",
       "      <th>Placement</th>\n",
       "    </tr>\n",
       "  </thead>\n",
       "  <tbody>\n",
       "    <tr>\n",
       "      <th>count</th>\n",
       "      <td>500.000000</td>\n",
       "      <td>500.000000</td>\n",
       "      <td>500</td>\n",
       "    </tr>\n",
       "    <tr>\n",
       "      <th>unique</th>\n",
       "      <td>NaN</td>\n",
       "      <td>NaN</td>\n",
       "      <td>2</td>\n",
       "    </tr>\n",
       "    <tr>\n",
       "      <th>top</th>\n",
       "      <td>NaN</td>\n",
       "      <td>NaN</td>\n",
       "      <td>No</td>\n",
       "    </tr>\n",
       "    <tr>\n",
       "      <th>freq</th>\n",
       "      <td>NaN</td>\n",
       "      <td>NaN</td>\n",
       "      <td>253</td>\n",
       "    </tr>\n",
       "    <tr>\n",
       "      <th>mean</th>\n",
       "      <td>119.970000</td>\n",
       "      <td>7.559840</td>\n",
       "      <td>NaN</td>\n",
       "    </tr>\n",
       "    <tr>\n",
       "      <th>std</th>\n",
       "      <td>23.706478</td>\n",
       "      <td>1.482335</td>\n",
       "      <td>NaN</td>\n",
       "    </tr>\n",
       "    <tr>\n",
       "      <th>min</th>\n",
       "      <td>80.000000</td>\n",
       "      <td>5.010000</td>\n",
       "      <td>NaN</td>\n",
       "    </tr>\n",
       "    <tr>\n",
       "      <th>25%</th>\n",
       "      <td>99.000000</td>\n",
       "      <td>6.280000</td>\n",
       "      <td>NaN</td>\n",
       "    </tr>\n",
       "    <tr>\n",
       "      <th>50%</th>\n",
       "      <td>121.000000</td>\n",
       "      <td>7.500000</td>\n",
       "      <td>NaN</td>\n",
       "    </tr>\n",
       "    <tr>\n",
       "      <th>75%</th>\n",
       "      <td>141.000000</td>\n",
       "      <td>8.950000</td>\n",
       "      <td>NaN</td>\n",
       "    </tr>\n",
       "    <tr>\n",
       "      <th>max</th>\n",
       "      <td>160.000000</td>\n",
       "      <td>10.000000</td>\n",
       "      <td>NaN</td>\n",
       "    </tr>\n",
       "  </tbody>\n",
       "</table>\n",
       "</div>"
      ],
      "text/plain": [
       "                IQ        CGPA Placement\n",
       "count   500.000000  500.000000       500\n",
       "unique         NaN         NaN         2\n",
       "top            NaN         NaN        No\n",
       "freq           NaN         NaN       253\n",
       "mean    119.970000    7.559840       NaN\n",
       "std      23.706478    1.482335       NaN\n",
       "min      80.000000    5.010000       NaN\n",
       "25%      99.000000    6.280000       NaN\n",
       "50%     121.000000    7.500000       NaN\n",
       "75%     141.000000    8.950000       NaN\n",
       "max     160.000000   10.000000       NaN"
      ]
     },
     "execution_count": 9,
     "metadata": {},
     "output_type": "execute_result"
    }
   ],
   "source": [
    "raw_data.describe(include = 'all')\n"
   ]
  },
  {
   "cell_type": "code",
   "execution_count": 20,
   "id": "1e28c39e-44a0-4b35-a809-0cb8dc1b2bf0",
   "metadata": {},
   "outputs": [],
   "source": [
    "raw_data['Placement']=raw_data['Placement'].map({'Yes':1,'No':0})"
   ]
  },
  {
   "cell_type": "code",
   "execution_count": 22,
   "id": "d30329f0-bef7-48ab-8729-6561d5f82871",
   "metadata": {},
   "outputs": [
    {
     "data": {
      "image/png": "[encoded data removed]",
      "text/plain": [
       "<Figure size 1000x800 with 1 Axes>"
      ]
     },
     "metadata": {},
     "output_type": "display_data"
    }
   ],
   "source": [
    "\n",
    "sns.set(style=\"whitegrid\")\n",
    "plt.rcParams['font.family'] = 'monospace'\n",
    "plt.figure(figsize=(10, 8))\n",
    "\n",
    "plt.scatter(\n",
    "    raw_data['IQ'],\n",
    "    raw_data['Placement'],\n",
    "      c= raw_data['Placement'],     \n",
    "    cmap='coolwarm',                 \n",
    "    s=80,                            \n",
    "    edgecolors='k',                  \n",
    "    alpha=0.7                      \n",
    ")\n",
    "plt.title('IQ vs Placement Outcome', fontsize=16)\n",
    "plt.xlabel('IQ Score', fontsize=13)\n",
    "plt.ylabel('Placement (0 = No, 1 = Yes)', fontsize=14)\n",
    "plt.xticks(fontsize=10)\n",
    "plt.yticks(fontsize=10)\n",
    "plt.grid(True)\n",
    "plt.show()\n"
   ]
  },
  {
   "cell_type": "code",
   "execution_count": null,
   "id": "1b4916f3-4b8c-47ee-8e37-7da118723266",
   "metadata": {},
   "outputs": [],
   "source": [
    "\n"
   ]
  },
  {
   "cell_type": "markdown",
   "id": "66d25114-02b6-44f4-8533-3d5aea3b9638",
   "metadata": {},
   "source": [
    "## Declare Independent and Dependent Variables"
   ]
  },
  {
   "cell_type": "code",
   "execution_count": 23,
   "id": "2253d339-4456-40f2-a95c-9602aed3af5c",
   "metadata": {},
   "outputs": [],
   "source": [
    "new_data = raw_data.copy()\n"
   ]
  },
  {
   "cell_type": "code",
   "execution_count": 24,
   "id": "5274119a-3ac2-4227-a60e-d7fa261101ad",
   "metadata": {},
   "outputs": [],
   "source": [
    "x1 = new_data[['IQ','CGPA']]\n",
    "y = new_data['Placement']"
   ]
  },
  {
   "cell_type": "code",
   "execution_count": 25,
   "id": "f24b8c0b-96c1-451d-8649-0baab2ea7962",
   "metadata": {},
   "outputs": [],
   "source": [
    "x_train, x_test, y_train, y_test = train_test_split(x1, y, test_size=0.3, random_state=365)\n"
   ]
  },
  {
   "cell_type": "code",
   "execution_count": 26,
   "id": "e227120c-3455-419a-a2c1-59438ddd6faa",
   "metadata": {},
   "outputs": [
    {
     "name": "stdout",
     "output_type": "stream",
     "text": [
      "Optimization terminated successfully.\n",
      "         Current function value: 0.693052\n",
      "         Iterations 3\n"
     ]
    },
    {
     "data": {
      "text/html": [
       "<table class=\"simpletable\">\n",
       "<caption>Logit Regression Results</caption>\n",
       "<tr>\n",
       "  <th>Dep. Variable:</th>       <td>Placement</td>    <th>  No. Observations:  </th>  <td>   350</td>  \n",
       "</tr>\n",
       "<tr>\n",
       "  <th>Model:</th>                 <td>Logit</td>      <th>  Df Residuals:      </th>  <td>   347</td>  \n",
       "</tr>\n",
       "<tr>\n",
       "  <th>Method:</th>                 <td>MLE</td>       <th>  Df Model:          </th>  <td>     2</td>  \n",
       "</tr>\n",
       "<tr>\n",
       "  <th>Date:</th>            <td>Tue, 15 Jul 2025</td> <th>  Pseudo R-squ.:     </th> <td>4.317e-05</td>\n",
       "</tr>\n",
       "<tr>\n",
       "  <th>Time:</th>                <td>10:26:15</td>     <th>  Log-Likelihood:    </th> <td> -242.57</td> \n",
       "</tr>\n",
       "<tr>\n",
       "  <th>converged:</th>             <td>True</td>       <th>  LL-Null:           </th> <td> -242.58</td> \n",
       "</tr>\n",
       "<tr>\n",
       "  <th>Covariance Type:</th>     <td>nonrobust</td>    <th>  LLR p-value:       </th>  <td>0.9896</td>  \n",
       "</tr>\n",
       "</table>\n",
       "<table class=\"simpletable\">\n",
       "<tr>\n",
       "    <td></td>       <th>coef</th>     <th>std err</th>      <th>z</th>      <th>P>|z|</th>  <th>[0.025</th>    <th>0.975]</th>  \n",
       "</tr>\n",
       "<tr>\n",
       "  <th>const</th> <td>   -0.0004</td> <td>    0.723</td> <td>   -0.001</td> <td> 1.000</td> <td>   -1.418</td> <td>    1.417</td>\n",
       "</tr>\n",
       "<tr>\n",
       "  <th>IQ</th>    <td>   -0.0006</td> <td>    0.005</td> <td>   -0.129</td> <td> 0.898</td> <td>   -0.010</td> <td>    0.008</td>\n",
       "</tr>\n",
       "<tr>\n",
       "  <th>CGPA</th>  <td>    0.0064</td> <td>    0.074</td> <td>    0.087</td> <td> 0.930</td> <td>   -0.138</td> <td>    0.151</td>\n",
       "</tr>\n",
       "</table>"
      ],
      "text/latex": [
       "\\begin{center}\n",
       "\\begin{tabular}{lclc}\n",
       "\\toprule\n",
       "\\textbf{Dep. Variable:}   &    Placement     & \\textbf{  No. Observations:  } &      350    \\\\\n",
       "\\textbf{Model:}           &      Logit       & \\textbf{  Df Residuals:      } &      347    \\\\\n",
       "\\textbf{Method:}          &       MLE        & \\textbf{  Df Model:          } &        2    \\\\\n",
       "\\textbf{Date:}            & Tue, 15 Jul 2025 & \\textbf{  Pseudo R-squ.:     } & 4.317e-05   \\\\\n",
       "\\textbf{Time:}            &     10:26:15     & \\textbf{  Log-Likelihood:    } &   -242.57   \\\\\n",
       "\\textbf{converged:}       &       True       & \\textbf{  LL-Null:           } &   -242.58   \\\\\n",
       "\\textbf{Covariance Type:} &    nonrobust     & \\textbf{  LLR p-value:       } &   0.9896    \\\\\n",
       "\\bottomrule\n",
       "\\end{tabular}\n",
       "\\begin{tabular}{lcccccc}\n",
       "               & \\textbf{coef} & \\textbf{std err} & \\textbf{z} & \\textbf{P$> |$z$|$} & \\textbf{[0.025} & \\textbf{0.975]}  \\\\\n",
       "\\midrule\n",
       "\\textbf{const} &      -0.0004  &        0.723     &    -0.001  &         1.000        &       -1.418    &        1.417     \\\\\n",
       "\\textbf{IQ}    &      -0.0006  &        0.005     &    -0.129  &         0.898        &       -0.010    &        0.008     \\\\\n",
       "\\textbf{CGPA}  &       0.0064  &        0.074     &     0.087  &         0.930        &       -0.138    &        0.151     \\\\\n",
       "\\bottomrule\n",
       "\\end{tabular}\n",
       "%\\caption{Logit Regression Results}\n",
       "\\end{center}"
      ],
      "text/plain": [
       "<class 'statsmodels.iolib.summary.Summary'>\n",
       "\"\"\"\n",
       "                           Logit Regression Results                           \n",
       "==============================================================================\n",
       "Dep. Variable:              Placement   No. Observations:                  350\n",
       "Model:                          Logit   Df Residuals:                      347\n",
       "Method:                           MLE   Df Model:                            2\n",
       "Date:                Tue, 15 Jul 2025   Pseudo R-squ.:               4.317e-05\n",
       "Time:                        10:26:15   Log-Likelihood:                -242.57\n",
       "converged:                       True   LL-Null:                       -242.58\n",
       "Covariance Type:            nonrobust   LLR p-value:                    0.9896\n",
       "==============================================================================\n",
       "                 coef    std err          z      P>|z|      [0.025      0.975]\n",
       "------------------------------------------------------------------------------\n",
       "const         -0.0004      0.723     -0.001      1.000      -1.418       1.417\n",
       "IQ            -0.0006      0.005     -0.129      0.898      -0.010       0.008\n",
       "CGPA           0.0064      0.074      0.087      0.930      -0.138       0.151\n",
       "==============================================================================\n",
       "\"\"\""
      ]
     },
     "execution_count": 26,
     "metadata": {},
     "output_type": "execute_result"
    }
   ],
   "source": [
    "x1= sm.add_constant(x_train)\n",
    "reg_log = sm.Logit(y_train,x1)\n",
    "results_log = reg_log.fit()\n",
    "results_log.summary()"
   ]
  },
  {
   "cell_type": "code",
   "execution_count": 27,
   "id": "034cf387-47be-43ec-bd00-7b2c9ea1cfba",
   "metadata": {},
   "outputs": [
    {
     "name": "stdout",
     "output_type": "stream",
     "text": [
      "Accuracy: 0.47333333333333333\n",
      "Intercept: [0.00041171]\n",
      "Coefficients: [[-0.0005959   0.00637356]]\n"
     ]
    }
   ],
   "source": [
    "from sklearn.linear_model import LogisticRegression\n",
    "from sklearn.metrics import accuracy_score\n",
    "\n",
    "# Model\n",
    "model = LogisticRegression()\n",
    "model.fit(x_train, y_train)\n",
    "\n",
    "# # Prediction\n",
    "y_pred = model.predict(x_test)\n",
    "print(\"Accuracy:\", accuracy_score(y_test, y_pred))\n",
    "\n",
    "# Coefficients\n",
    "print(\"Intercept:\", model.intercept_)\n",
    "print(\"Coefficients:\", model.coef_)\n"
   ]
  },
  {
   "cell_type": "code",
   "execution_count": 28,
   "id": "481be680-e50a-4025-b781-2bcc10a21545",
   "metadata": {},
   "outputs": [
    {
     "data": {
      "text/plain": [
       "array([[167.,  10.],\n",
       "       [159.,  14.]])"
      ]
     },
     "execution_count": 28,
     "metadata": {},
     "output_type": "execute_result"
    }
   ],
   "source": [
    "results_log.pred_table()"
   ]
  },
  {
   "cell_type": "code",
   "execution_count": 29,
   "id": "fbfceb3c-ab84-44ea-afb2-0c5f37ded06e",
   "metadata": {},
   "outputs": [
    {
     "data": {
      "text/plain": [
       "array([0.48971837, 0.48980447, 0.4917035 , 0.49130162, 0.48957667,\n",
       "       0.49067585, 0.49389155, 0.49029908, 0.49334696, 0.48794255,\n",
       "       0.49192512, 0.49727978, 0.49559044, 0.49304243, 0.49176003,\n",
       "       0.49960517, 0.49368592, 0.49323125, 0.49416903, 0.50214511,\n",
       "       0.48860421, 0.49220648, 0.49345702, 0.49593842, 0.48466337,\n",
       "       0.50182049, 0.49717695, 0.48986501, 0.49920271, 0.49220257,\n",
       "       0.49864779, 0.49486332, 0.49059584, 0.49670876, 0.4991259 ,\n",
       "       0.49275725, 0.49405332, 0.48877535, 0.48838921, 0.48858429,\n",
       "       0.4877675 , 0.49647431, 0.4973825 , 0.49301906, 0.49908537,\n",
       "       0.48822589, 0.49567715, 0.49335202, 0.49664277, 0.48950992,\n",
       "       0.49961795, 0.4983538 , 0.48724584, 0.48862757, 0.49407059,\n",
       "       0.4943179 , 0.49243202, 0.50143358, 0.49600117, 0.49551652,\n",
       "       0.49283669, 0.49932489, 0.49887798, 0.49255877, 0.49319302,\n",
       "       0.49404675, 0.49483546, 0.4936698 , 0.49005517, 0.49750881,\n",
       "       0.4980536 , 0.50038062, 0.49815804, 0.4899289 , 0.49330736,\n",
       "       0.49253034, 0.49251652, 0.49288551, 0.49204634, 0.49602903,\n",
       "       0.48757807, 0.49679385, 0.49631587, 0.49775501, 0.49631368,\n",
       "       0.49130553, 0.48796533, 0.49107979, 0.4974342 , 0.48901544,\n",
       "       0.49145669, 0.48703973, 0.49296449, 0.48912709, 0.49344367,\n",
       "       0.49304519, 0.49353751, 0.4923459 , 0.49583824, 0.49274655,\n",
       "       0.49988534, 0.49044735, 0.4875386 , 0.48918993, 0.49184073,\n",
       "       0.49080754, 0.49605   , 0.49399828, 0.49207237, 0.4994595 ,\n",
       "       0.50309072, 0.49761613, 0.49087477, 0.49583042, 0.50164983,\n",
       "       0.4994428 , 0.48739084, 0.49350803, 0.49544306, 0.49362201,\n",
       "       0.49651312, 0.49069369, 0.50033283, 0.4932286 , 0.49808964,\n",
       "       0.50244588, 0.49815804, 0.49826202, 0.49660385, 0.49897966,\n",
       "       0.49164456, 0.4963564 , 0.49332854, 0.49281113, 0.49117717,\n",
       "       0.49986311, 0.49259768, 0.48765967, 0.50180045, 0.49324679,\n",
       "       0.49725134, 0.4925765 , 0.49404847, 0.49066146, 0.49853724,\n",
       "       0.48696689, 0.49787281, 0.49148109, 0.49379609, 0.49037069,\n",
       "       0.49780233, 0.49204853, 0.4882892 , 0.49526459, 0.49454035,\n",
       "       0.49730315, 0.49152   , 0.48998231, 0.49536361, 0.48888757,\n",
       "       0.49553645, 0.48770087, 0.4901712 , 0.49836428, 0.4932986 ,\n",
       "       0.4978735 , 0.49131267, 0.4955171 , 0.48720579, 0.49677267,\n",
       "       0.48629809, 0.49633637, 0.49400668, 0.4929045 , 0.49559701,\n",
       "       0.49121551, 0.4999337 , 0.49006794, 0.50088096, 0.49301618,\n",
       "       0.4948039 , 0.49630136, 0.49541578, 0.49459101, 0.49899923,\n",
       "       0.50265603, 0.49328029, 0.49739309, 0.49095811, 0.4877919 ,\n",
       "       0.49141444, 0.49983087, 0.49475267, 0.49877906, 0.4923771 ,\n",
       "       0.49401716, 0.4925872 , 0.49245251, 0.49279433, 0.50180713,\n",
       "       0.49368269, 0.49529177, 0.49220924, 0.49213626, 0.49371216,\n",
       "       0.49373496, 0.49141663, 0.49698741, 0.50115007, 0.49452365,\n",
       "       0.49405734, 0.48504993, 0.49788122, 0.49737144, 0.4928405 ,\n",
       "       0.50128181, 0.50010885, 0.49345415, 0.49398331, 0.49512181,\n",
       "       0.49441186, 0.48982173, 0.49533518, 0.48884429, 0.49403892,\n",
       "       0.49263487, 0.49134272, 0.49130151, 0.49731479, 0.50162588,\n",
       "       0.49526862, 0.49080811, 0.48951889, 0.50107718, 0.49994257,\n",
       "       0.49666327, 0.49646867, 0.49868452, 0.49291118, 0.49444629,\n",
       "       0.50034561, 0.49655768, 0.49837879, 0.48796304, 0.49265709,\n",
       "       0.49537812, 0.49101429, 0.50142909, 0.4869975 , 0.49116762,\n",
       "       0.49228696, 0.49253379, 0.49559712, 0.495124  , 0.49250823,\n",
       "       0.49366922, 0.49595777, 0.48842926, 0.48935326, 0.48790641,\n",
       "       0.49424007, 0.49068299, 0.49541589, 0.49882904, 0.50214292,\n",
       "       0.49546909, 0.4955977 , 0.48952546, 0.49319406, 0.49548647,\n",
       "       0.49679615, 0.48746748, 0.49575039, 0.4910182 , 0.49588546,\n",
       "       0.49924152, 0.49329849, 0.49241141, 0.50182993, 0.49297831,\n",
       "       0.49489613, 0.48973448, 0.49693399, 0.49689219, 0.49319015,\n",
       "       0.49694619, 0.49787016, 0.49558204, 0.49911531, 0.49515739,\n",
       "       0.49426897, 0.4951407 , 0.50108558, 0.49846388, 0.4905308 ,\n",
       "       0.49884469, 0.49372322, 0.49191119, 0.5014869 , 0.49898357,\n",
       "       0.49831258, 0.49391883, 0.492995  , 0.49318128, 0.4917628 ,\n",
       "       0.49468428, 0.48769696, 0.49400679, 0.49799303, 0.49830935,\n",
       "       0.49507011, 0.49471271, 0.49893244, 0.49716855, 0.50108501,\n",
       "       0.49431744, 0.49114149, 0.49789457, 0.49184845, 0.49825488,\n",
       "       0.49036459, 0.49612784, 0.49109257, 0.488672  , 0.49760831,\n",
       "       0.49932823, 0.49016844, 0.48501162, 0.49166287, 0.49983248,\n",
       "       0.49985367, 0.49481715, 0.49652267, 0.49945893, 0.49299834,\n",
       "       0.4932529 , 0.4872097 , 0.49695402, 0.49520184, 0.49140822,\n",
       "       0.49816978, 0.49767222, 0.49023681, 0.49934159, 0.4954137 ,\n",
       "       0.49274931, 0.4884959 , 0.49634972, 0.49245919, 0.49248866])"
      ]
     },
     "execution_count": 29,
     "metadata": {},
     "output_type": "execute_result"
    }
   ],
   "source": [
    "results_log.predict()"
   ]
  },
  {
   "cell_type": "code",
   "execution_count": 30,
   "id": "a9e9401f-2516-4519-a36e-0e1eaa736364",
   "metadata": {},
   "outputs": [
    {
     "data": {
      "text/plain": [
       "array([1, 1, 1, 0, 1, 1, 0, 0, 1, 1, 0, 0, 1, 1, 1, 1, 1, 1, 1, 0, 1, 0,\n",
       "       0, 1, 1, 0, 1, 1, 1, 1, 1, 0, 1, 1, 1, 0, 0, 1, 1, 1, 0, 0, 1, 1,\n",
       "       1, 0, 1, 1, 1, 1, 1, 0, 1, 1, 0, 0, 1, 1, 0, 1, 1, 1, 1, 0, 0, 1,\n",
       "       1, 0, 1, 1, 0, 1, 1, 1, 1, 0, 0, 0, 0, 0, 1, 1, 1, 1, 0, 1, 0, 0,\n",
       "       1, 0, 0, 1, 0, 0, 1, 0, 1, 0, 1, 0, 0, 1, 1, 1, 1, 0, 1, 0, 0, 1,\n",
       "       0, 0, 0, 0, 0, 0, 1, 0, 1, 0, 0, 0, 0, 0, 0, 0, 0, 0, 1, 1, 1, 1,\n",
       "       0, 0, 1, 0, 1, 0, 1, 1, 1, 1, 0, 1, 0, 1, 1, 0, 0, 1, 0, 1, 1, 1,\n",
       "       0, 0, 0, 0, 1, 0, 0, 0, 0, 1, 1, 1, 1, 0, 1, 1, 1, 0, 0, 1, 1, 0,\n",
       "       0, 1, 1, 0, 0, 1, 0, 1, 0, 1, 0, 1, 0, 0, 0, 1, 1, 1, 0, 1, 1, 0,\n",
       "       0, 0, 0, 0, 0, 0, 1, 1, 0, 0, 0, 0, 0, 1, 1, 1, 0, 0, 1, 1, 0, 1,\n",
       "       1, 1, 1, 1, 1, 1, 1, 1, 0, 0, 1, 0, 0, 1, 0, 1, 1, 0, 1, 0, 0, 0,\n",
       "       0, 0, 0, 0, 1, 1, 1, 0, 0, 1, 0, 0, 0, 0, 0, 0, 1, 1, 1, 1, 0, 1,\n",
       "       1, 0, 1, 0, 1, 0, 1, 0, 1, 1, 0, 0, 1, 1, 0, 1, 1, 0, 0, 0, 0, 0,\n",
       "       1, 1, 0, 1, 0, 1, 0, 0, 0, 1, 1, 0, 0, 1, 0, 0, 1, 1, 0, 0, 0, 0,\n",
       "       1, 1, 0, 1, 1, 0, 1, 0, 1, 0, 0, 1, 1, 1, 0, 1, 1, 1, 1, 1, 0, 1,\n",
       "       1, 1, 0, 0, 0, 1, 1, 1, 1, 0, 1, 0, 1, 1, 1, 0, 0, 1, 0, 0, 0, 1,\n",
       "       0, 1, 0, 1, 1, 0, 1, 0, 1, 1, 0, 0, 1, 1, 0, 0, 1, 1, 0, 0, 0, 1,\n",
       "       0, 0, 0, 0, 0, 0, 1, 1, 0, 0, 1, 0, 0, 0, 1, 0, 1, 1, 0, 0, 0, 1,\n",
       "       1, 1, 1, 0, 1, 1, 0, 0, 1, 0, 0, 1, 0, 0, 1, 0, 0, 0, 1, 0, 0, 1,\n",
       "       0, 0, 1, 1, 0, 0, 0, 1, 0, 1, 0, 0, 1, 0, 0, 0, 1, 0, 1, 0, 1, 0,\n",
       "       0, 0, 0, 0, 0, 1, 1, 0, 0, 1, 0, 0, 1, 0, 0, 1, 1, 1, 1, 1, 0, 1,\n",
       "       0, 0, 1, 1, 1, 1, 1, 1, 1, 1, 0, 0, 0, 1, 1, 0, 0, 0, 1, 0, 1, 0,\n",
       "       0, 0, 0, 0, 0, 0, 0, 0, 0, 1, 0, 1, 0, 1, 1, 1], dtype=int64)"
      ]
     },
     "execution_count": 30,
     "metadata": {},
     "output_type": "execute_result"
    }
   ],
   "source": [
    "np.array(new_data['Placement'])"
   ]
  },
  {
   "cell_type": "code",
   "execution_count": 31,
   "id": "478a0a86-00eb-47f1-a97b-55a06d0cab70",
   "metadata": {},
   "outputs": [
    {
     "data": {
      "text/html": [
       "<div>\n",
       "<style scoped>\n",
       "    .dataframe tbody tr th:only-of-type {\n",
       "        vertical-align: middle;\n",
       "    }\n",
       "\n",
       "    .dataframe tbody tr th {\n",
       "        vertical-align: top;\n",
       "    }\n",
       "\n",
       "    .dataframe thead th {\n",
       "        text-align: right;\n",
       "    }\n",
       "</style>\n",
       "<table border=\"1\" class=\"dataframe\">\n",
       "  <thead>\n",
       "    <tr style=\"text-align: right;\">\n",
       "      <th></th>\n",
       "      <th>Predicted 0</th>\n",
       "      <th>Predicted 1</th>\n",
       "    </tr>\n",
       "  </thead>\n",
       "  <tbody>\n",
       "    <tr>\n",
       "      <th>Actual 0</th>\n",
       "      <td>167.0</td>\n",
       "      <td>10.0</td>\n",
       "    </tr>\n",
       "    <tr>\n",
       "      <th>Actual 1</th>\n",
       "      <td>159.0</td>\n",
       "      <td>14.0</td>\n",
       "    </tr>\n",
       "  </tbody>\n",
       "</table>\n",
       "</div>"
      ],
      "text/plain": [
       "          Predicted 0  Predicted 1\n",
       "Actual 0        167.0         10.0\n",
       "Actual 1        159.0         14.0"
      ]
     },
     "execution_count": 31,
     "metadata": {},
     "output_type": "execute_result"
    }
   ],
   "source": [
    "cm_df = pd.DataFrame(results_log.pred_table())\n",
    "cm_df.columns = ['Predicted 0','Predicted 1']\n",
    "cm_df = cm_df.rename(index={0: 'Actual 0',1:'Actual 1'})\n",
    "cm_df"
   ]
  },
  {
   "cell_type": "code",
   "execution_count": 32,
   "id": "78322f22-8b47-4ab2-ae7a-f7bfa697b51f",
   "metadata": {},
   "outputs": [
    {
     "name": "stdout",
     "output_type": "stream",
     "text": [
      " The model showed a 52 % accuracy when tested with training data \n"
     ]
    }
   ],
   "source": [
    "cm = np.array(cm_df)\n",
    "accuracy_train = (cm[0,0]+cm[1,1])/cm.sum()\n",
    "accuracy_train\n",
    "print(f' The model showed a {round(accuracy_train*100)} % accuracy when tested with training data ')"
   ]
  },
  {
   "cell_type": "markdown",
   "id": "480937a5-4416-4894-b148-a3e709e3b629",
   "metadata": {},
   "source": [
    "\n",
    "<b> The model performed terribly and is only able to predict not admitted, which is due to an imbalance in the data set as it contains more not admitted target values -0 </b>"
   ]
  },
  {
   "cell_type": "markdown",
   "id": "75e93623-7b66-420f-b8ab-2b503a42d569",
   "metadata": {},
   "source": [
    "### POSSIBLE LINE OF ACTIONS"
   ]
  },
  {
   "cell_type": "markdown",
   "id": "9ae3dd3a-129e-466e-86be-1247938527ec",
   "metadata": {},
   "source": [
    "\n",
    "\n",
    "1. Oversampling the minority class (admitted)\n",
    "2. Undersampling the majority class (not admitted)\n",
    "3. Using class weights in logistic regression\n",
    "4. Test Another Algorithm\n"
   ]
  },
  {
   "cell_type": "code",
   "execution_count": 37,
   "id": "cf4df933-c00e-48e6-b1fa-bf9d58fb1bc5",
   "metadata": {},
   "outputs": [],
   "source": [
    "x2 = new_data[['IQ','CGPA']]\n",
    "y1 = new_data['Placement']"
   ]
  },
  {
   "cell_type": "markdown",
   "id": "13877705-eca7-49cf-b400-156bc9e4545e",
   "metadata": {},
   "source": [
    "### Oversampling the minority class (admitted)"
   ]
  },
  {
   "cell_type": "code",
   "execution_count": 40,
   "id": "c538011b-d77c-4024-a7dc-b7b28bdf9111",
   "metadata": {},
   "outputs": [
    {
     "name": "stdout",
     "output_type": "stream",
     "text": [
      "              precision    recall  f1-score   support\n",
      "\n",
      "           0       0.60      0.51      0.55        51\n",
      "           1       0.56      0.65      0.60        49\n",
      "\n",
      "    accuracy                           0.58       100\n",
      "   macro avg       0.58      0.58      0.58       100\n",
      "weighted avg       0.58      0.58      0.58       100\n",
      "\n"
     ]
    }
   ],
   "source": [
    "from imblearn.over_sampling import SMOTE\n",
    "from sklearn.metrics import classification_report\n",
    "\n",
    "\n",
    "newx_train, newx_test, newy_train, newy_test = train_test_split(\n",
    "    x2, y1, test_size=0.2, random_state=365, stratify=y\n",
    ")\n",
    "# Apply SMOTE only on training data\n",
    "smote = SMOTE(random_state=365)\n",
    "newx_train_res, newy_train_res = smote.fit_resample(newx_train, newy_train)\n",
    "\n",
    "# Train model on resampled data\n",
    "model = LogisticRegression(max_iter=1000)\n",
    "model.fit(newx_train_res, newy_train_res)\n",
    "\n",
    "newy_pred = model.predict(newx_test)\n",
    "\n",
    "print(classification_report(newy_test, newy_pred))\n",
    "\n",
    "\n"
   ]
  },
  {
   "cell_type": "markdown",
   "id": "07fec54f-7052-4147-b93b-8d6379ca43d8",
   "metadata": {},
   "source": [
    "### 🔍 What This Means\r\n",
    "\r\n",
    "#### ✅ Class 1 (positive class, e.g., “Admitted”)\r\n",
    "- **Recall = 0.65*Theour model correctly identifies 65% of all actual positives.\r\n",
    "- **Precision = 0.56**: When it predicts “positive,” it’s correct 56% of the timnts).\r\n",
    "\r\n",
    "#### ❌ Class 0\r\n",
    "- **Lower recall (0.51)**: The model misses about half of the actual class 0 cases.\r\n",
    "\r\n",
    "#### 📉 Overall Accurly 50/50).\r\n",
    "- Suggests the model is struggling to clearly separate \n",
    "\n",
    "e classes.\r\n",
    "\n"
   ]
  },
  {
   "cell_type": "markdown",
   "id": "93855206-49c9-4d15-9f28-9de7b95b84e4",
   "metadata": {},
   "source": [
    "### 🧾 Conclusion\r\n",
    "\r\n",
    "The model did **not perform better** even after oversampling the minority class using SMOTE.  \r\n",
    "This suggests that **logistic regression is not well-suited for this particular imbalanced dataset**.\r\n",
    "\r\n",
    "Despite balancing the data, the model struggled to separate the classes effectively, as shown by:\r\n",
    "- Modest precision and recall\r\n",
    "- Low overall accuracy\r\n",
    "- F1-scores indicating weak predictive power\r\n",
    "\r\n",
    "➡️ **Conclusion**: Logistic Regression may not be the best choice for this classification task. A more powerful model (e.g., Random Forest, XGBoost, or SVM) might yield better performance on this imbalanced dataset.\r\n"
   ]
  },
  {
   "cell_type": "code",
   "execution_count": null,
   "id": "bf42e7fc-228d-463c-8d09-91e283b23292",
   "metadata": {},
   "outputs": [],
   "source": []
  },
  {
   "cell_type": "code",
   "execution_count": null,
   "id": "31573ab3-383d-4818-af69-701d8ff85cd0",
   "metadata": {},
   "outputs": [],
   "source": []
  },
  {
   "cell_type": "code",
   "execution_count": null,
   "id": "aae574ce-b8b4-4903-8161-bdc6924cb368",
   "metadata": {},
   "outputs": [],
   "source": []
  }
 ],
 "metadata": {
  "kernelspec": {
   "display_name": "Python [conda env:base] *",
   "language": "python",
   "name": "conda-base-py"
  },
  "language_info": {
   "codemirror_mode": {
    "name": "ipython",
    "version": 3
   },
   "file_extension": ".py",
   "mimetype": "text/x-python",
   "name": "python",
   "nbconvert_exporter": "python",
   "pygments_lexer": "ipython3",
   "version": "3.11.7"
  }
 },
 "nbformat": 4,
 "nbformat_minor": 5
}
